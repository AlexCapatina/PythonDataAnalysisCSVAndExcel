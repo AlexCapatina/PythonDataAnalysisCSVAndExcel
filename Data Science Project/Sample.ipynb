{
 "cells": [
  {
   "cell_type": "markdown",
   "id": "1e8e4746",
   "metadata": {},
   "source": [
    "# Title"
   ]
  },
  {
   "cell_type": "markdown",
   "id": "7a3da4bd",
   "metadata": {},
   "source": [
    "## Subtitle"
   ]
  },
  {
   "cell_type": "code",
   "execution_count": 6,
   "id": "bd634ff1",
   "metadata": {},
   "outputs": [
    {
     "name": "stdout",
     "output_type": "stream",
     "text": [
      "Hello World!\n"
     ]
    }
   ],
   "source": [
    "# printing a message\n",
    "print(\"Hello World!\")"
   ]
  },
  {
   "cell_type": "code",
   "execution_count": 5,
   "id": "90e297d8",
   "metadata": {},
   "outputs": [
    {
     "data": {
      "text/plain": [
       "'Hello World!'"
      ]
     },
     "execution_count": 5,
     "metadata": {},
     "output_type": "execute_result"
    }
   ],
   "source": [
    "\"Hello World!\""
   ]
  },
  {
   "cell_type": "markdown",
   "id": "ccf48692",
   "metadata": {},
   "source": [
    "# Data Types"
   ]
  },
  {
   "cell_type": "code",
   "execution_count": 7,
   "id": "3b3dc4f1",
   "metadata": {},
   "outputs": [
    {
     "data": {
      "text/plain": [
       "int"
      ]
     },
     "execution_count": 7,
     "metadata": {},
     "output_type": "execute_result"
    }
   ],
   "source": [
    "type(1)"
   ]
  },
  {
   "cell_type": "code",
   "execution_count": 8,
   "id": "8cf2af57",
   "metadata": {},
   "outputs": [
    {
     "data": {
      "text/plain": [
       "float"
      ]
     },
     "execution_count": 8,
     "metadata": {},
     "output_type": "execute_result"
    }
   ],
   "source": [
    "type (2.4)"
   ]
  },
  {
   "cell_type": "code",
   "execution_count": 9,
   "id": "efd0d20f",
   "metadata": {},
   "outputs": [
    {
     "data": {
      "text/plain": [
       "bool"
      ]
     },
     "execution_count": 9,
     "metadata": {},
     "output_type": "execute_result"
    }
   ],
   "source": [
    "type(True)"
   ]
  },
  {
   "cell_type": "code",
   "execution_count": 10,
   "id": "ecf4bbb4",
   "metadata": {},
   "outputs": [
    {
     "data": {
      "text/plain": [
       "str"
      ]
     },
     "execution_count": 10,
     "metadata": {},
     "output_type": "execute_result"
    }
   ],
   "source": [
    "type(\"Hello World\")"
   ]
  },
  {
   "cell_type": "code",
   "execution_count": 14,
   "id": "de182939",
   "metadata": {},
   "outputs": [
    {
     "name": "stdout",
     "output_type": "stream",
     "text": [
      "HELLO WORLD\n",
      "hello world\n",
      "Hello World\n"
     ]
    }
   ],
   "source": [
    "print(\"Hello World\".upper())\n",
    "print(\"Hello World\".lower())\n",
    "print(\"Hello world\".title())"
   ]
  },
  {
   "cell_type": "code",
   "execution_count": 16,
   "id": "e69f8885",
   "metadata": {},
   "outputs": [
    {
     "data": {
      "text/plain": [
       "3"
      ]
     },
     "execution_count": 16,
     "metadata": {},
     "output_type": "execute_result"
    }
   ],
   "source": [
    "\"Hello world\".count('l')"
   ]
  },
  {
   "cell_type": "code",
   "execution_count": 18,
   "id": "20eb1e81",
   "metadata": {},
   "outputs": [
    {
     "data": {
      "text/plain": [
       "'Hellu wurld'"
      ]
     },
     "execution_count": 18,
     "metadata": {},
     "output_type": "execute_result"
    }
   ],
   "source": [
    "\"Hello world\".replace('o', 'u')"
   ]
  },
  {
   "cell_type": "markdown",
   "id": "3106a7a8",
   "metadata": {},
   "source": [
    "# Variables"
   ]
  },
  {
   "cell_type": "code",
   "execution_count": 22,
   "id": "67816200",
   "metadata": {},
   "outputs": [],
   "source": [
    "message_1 = \"I'm learning python\""
   ]
  },
  {
   "cell_type": "code",
   "execution_count": 25,
   "id": "c3e6b3a5",
   "metadata": {},
   "outputs": [],
   "source": [
    "message_2 = \"I'm still learning python\""
   ]
  },
  {
   "cell_type": "code",
   "execution_count": 26,
   "id": "fb594c99",
   "metadata": {},
   "outputs": [
    {
     "data": {
      "text/plain": [
       "\"I'm still learning python\""
      ]
     },
     "execution_count": 26,
     "metadata": {},
     "output_type": "execute_result"
    }
   ],
   "source": [
    "message_2"
   ]
  },
  {
   "cell_type": "code",
   "execution_count": 29,
   "id": "8573409f",
   "metadata": {},
   "outputs": [
    {
     "data": {
      "text/plain": [
       "\"I'm learning python I'm still learning python\""
      ]
     },
     "execution_count": 29,
     "metadata": {},
     "output_type": "execute_result"
    }
   ],
   "source": [
    "message = message_1 + \" \" + message_2\n",
    "message"
   ]
  },
  {
   "cell_type": "code",
   "execution_count": 33,
   "id": "d58a56ef",
   "metadata": {},
   "outputs": [
    {
     "data": {
      "text/plain": [
       "\"I'm learning python I'm still learning python\""
      ]
     },
     "execution_count": 33,
     "metadata": {},
     "output_type": "execute_result"
    }
   ],
   "source": [
    "f'{message_1} {message_2}'"
   ]
  },
  {
   "cell_type": "markdown",
   "id": "4b262da5",
   "metadata": {},
   "source": [
    "# Lists"
   ]
  },
  {
   "cell_type": "code",
   "execution_count": 52,
   "id": "cd0f1681",
   "metadata": {},
   "outputs": [],
   "source": [
    "countries = ['Romania', 'Romania 2', 'Only Romania', 'Must Be Romania']"
   ]
  },
  {
   "cell_type": "code",
   "execution_count": 35,
   "id": "79361302",
   "metadata": {},
   "outputs": [
    {
     "data": {
      "text/plain": [
       "['Romania', 'Romania 2', 'Only Romania']"
      ]
     },
     "execution_count": 35,
     "metadata": {},
     "output_type": "execute_result"
    }
   ],
   "source": [
    "countries"
   ]
  },
  {
   "cell_type": "code",
   "execution_count": 39,
   "id": "d0949588",
   "metadata": {},
   "outputs": [
    {
     "name": "stdout",
     "output_type": "stream",
     "text": [
      "Romania\n",
      "Romania 2\n",
      "Only Romania\n"
     ]
    }
   ],
   "source": [
    "print(countries[0])\n",
    "print(countries[1])\n",
    "print(countries[2])"
   ]
  },
  {
   "cell_type": "code",
   "execution_count": 41,
   "id": "5c3ccfc6",
   "metadata": {},
   "outputs": [
    {
     "name": "stdout",
     "output_type": "stream",
     "text": [
      "Only Romania\n",
      "Romania 2\n",
      "Romania\n"
     ]
    }
   ],
   "source": [
    "print(countries[-1])\n",
    "print(countries[-2])\n",
    "print(countries[-3])"
   ]
  },
  {
   "cell_type": "code",
   "execution_count": null,
   "id": "dd7fc0dc",
   "metadata": {},
   "outputs": [],
   "source": [
    "# slicing\n",
    "list_name[start:stop]"
   ]
  },
  {
   "cell_type": "code",
   "execution_count": 44,
   "id": "95e49e89",
   "metadata": {},
   "outputs": [
    {
     "data": {
      "text/plain": [
       "['Romania']"
      ]
     },
     "execution_count": 44,
     "metadata": {},
     "output_type": "execute_result"
    }
   ],
   "source": [
    "countries[0:1]"
   ]
  },
  {
   "cell_type": "code",
   "execution_count": 46,
   "id": "3ad16b8f",
   "metadata": {},
   "outputs": [
    {
     "data": {
      "text/plain": [
       "['Romania 2', 'Only Romania']"
      ]
     },
     "execution_count": 46,
     "metadata": {},
     "output_type": "execute_result"
    }
   ],
   "source": [
    "countries[1:3]"
   ]
  },
  {
   "cell_type": "code",
   "execution_count": 47,
   "id": "4da38589",
   "metadata": {},
   "outputs": [
    {
     "data": {
      "text/plain": [
       "['Romania 2', 'Only Romania']"
      ]
     },
     "execution_count": 47,
     "metadata": {},
     "output_type": "execute_result"
    }
   ],
   "source": [
    "countries[0:]"
   ]
  },
  {
   "cell_type": "code",
   "execution_count": 48,
   "id": "ad597379",
   "metadata": {},
   "outputs": [
    {
     "data": {
      "text/plain": [
       "['Romania', 'Romania 2']"
      ]
     },
     "execution_count": 48,
     "metadata": {},
     "output_type": "execute_result"
    }
   ],
   "source": [
    "countries[:2]"
   ]
  },
  {
   "cell_type": "markdown",
   "id": "89de50ae",
   "metadata": {},
   "source": [
    "## Add to a list"
   ]
  },
  {
   "cell_type": "code",
   "execution_count": 53,
   "id": "ce8c705c",
   "metadata": {},
   "outputs": [
    {
     "data": {
      "text/plain": [
       "['Romania', 'Romania 2', 'Only Romania', 'Must Be Romania']"
      ]
     },
     "execution_count": 53,
     "metadata": {},
     "output_type": "execute_result"
    }
   ],
   "source": [
    "countries"
   ]
  },
  {
   "cell_type": "code",
   "execution_count": 54,
   "id": "6debdd57",
   "metadata": {},
   "outputs": [],
   "source": [
    "countries.append('Forever Romania')"
   ]
  },
  {
   "cell_type": "code",
   "execution_count": 55,
   "id": "7d0ebfc8",
   "metadata": {},
   "outputs": [
    {
     "data": {
      "text/plain": [
       "['Romania', 'Romania 2', 'Only Romania', 'Must Be Romania', 'Forever Romania']"
      ]
     },
     "execution_count": 55,
     "metadata": {},
     "output_type": "execute_result"
    }
   ],
   "source": [
    "countries"
   ]
  },
  {
   "cell_type": "code",
   "execution_count": 56,
   "id": "0955f900",
   "metadata": {},
   "outputs": [],
   "source": [
    "countries.insert(0, 'Insert Romania')"
   ]
  },
  {
   "cell_type": "code",
   "execution_count": 57,
   "id": "5b98f140",
   "metadata": {},
   "outputs": [
    {
     "data": {
      "text/plain": [
       "['Insert Romania',\n",
       " 'Romania',\n",
       " 'Romania 2',\n",
       " 'Only Romania',\n",
       " 'Must Be Romania',\n",
       " 'Forever Romania']"
      ]
     },
     "execution_count": 57,
     "metadata": {},
     "output_type": "execute_result"
    }
   ],
   "source": [
    "countries"
   ]
  },
  {
   "cell_type": "code",
   "execution_count": 58,
   "id": "5169c597",
   "metadata": {},
   "outputs": [],
   "source": [
    "countries_2 = ['Some country not in Europe', 'Not Romania', 'Alpha Centaury']"
   ]
  },
  {
   "cell_type": "code",
   "execution_count": 59,
   "id": "b4499950",
   "metadata": {},
   "outputs": [
    {
     "data": {
      "text/plain": [
       "['Insert Romania',\n",
       " 'Romania',\n",
       " 'Romania 2',\n",
       " 'Only Romania',\n",
       " 'Must Be Romania',\n",
       " 'Forever Romania',\n",
       " 'Some country not in Europe',\n",
       " 'Not Romania',\n",
       " 'Alpha Centaury']"
      ]
     },
     "execution_count": 59,
     "metadata": {},
     "output_type": "execute_result"
    }
   ],
   "source": [
    "countries + countries_2"
   ]
  },
  {
   "cell_type": "code",
   "execution_count": 60,
   "id": "386fb177",
   "metadata": {},
   "outputs": [],
   "source": [
    "nested_list = [countries, countries_2]"
   ]
  },
  {
   "cell_type": "code",
   "execution_count": 61,
   "id": "4ce12955",
   "metadata": {},
   "outputs": [
    {
     "data": {
      "text/plain": [
       "[['Insert Romania',\n",
       "  'Romania',\n",
       "  'Romania 2',\n",
       "  'Only Romania',\n",
       "  'Must Be Romania',\n",
       "  'Forever Romania'],\n",
       " ['Some country not in Europe', 'Not Romania', 'Alpha Centaury']]"
      ]
     },
     "execution_count": 61,
     "metadata": {},
     "output_type": "execute_result"
    }
   ],
   "source": [
    "nested_list"
   ]
  },
  {
   "cell_type": "markdown",
   "id": "f00514f6",
   "metadata": {},
   "source": [
    "## Removing from list"
   ]
  },
  {
   "cell_type": "code",
   "execution_count": 62,
   "id": "0384134c",
   "metadata": {},
   "outputs": [],
   "source": [
    "countries = ['Romania', 'Romania 2', 'Only Romania', 'Must Be Romania']"
   ]
  },
  {
   "cell_type": "code",
   "execution_count": 63,
   "id": "9bd1f430",
   "metadata": {},
   "outputs": [],
   "source": [
    "countries.remove('Romania 2')"
   ]
  },
  {
   "cell_type": "code",
   "execution_count": 64,
   "id": "e4f3858e",
   "metadata": {},
   "outputs": [
    {
     "data": {
      "text/plain": [
       "['Romania', 'Only Romania', 'Must Be Romania']"
      ]
     },
     "execution_count": 64,
     "metadata": {},
     "output_type": "execute_result"
    }
   ],
   "source": [
    "countries"
   ]
  },
  {
   "cell_type": "code",
   "execution_count": 65,
   "id": "18dff814",
   "metadata": {},
   "outputs": [],
   "source": [
    "countries = ['Romania', 'Romania 2', 'Only Romania', 'Must Be Romania']"
   ]
  },
  {
   "cell_type": "code",
   "execution_count": 66,
   "id": "81c29899",
   "metadata": {},
   "outputs": [
    {
     "data": {
      "text/plain": [
       "'Romania 2'"
      ]
     },
     "execution_count": 66,
     "metadata": {},
     "output_type": "execute_result"
    }
   ],
   "source": [
    "countries.pop(1)"
   ]
  },
  {
   "cell_type": "code",
   "execution_count": 67,
   "id": "02369b3c",
   "metadata": {},
   "outputs": [
    {
     "data": {
      "text/plain": [
       "['Romania', 'Only Romania', 'Must Be Romania']"
      ]
     },
     "execution_count": 67,
     "metadata": {},
     "output_type": "execute_result"
    }
   ],
   "source": [
    "countries"
   ]
  },
  {
   "cell_type": "code",
   "execution_count": 68,
   "id": "16f0b921",
   "metadata": {},
   "outputs": [],
   "source": [
    "del countries[1]"
   ]
  },
  {
   "cell_type": "code",
   "execution_count": 69,
   "id": "2b5f0108",
   "metadata": {},
   "outputs": [
    {
     "data": {
      "text/plain": [
       "['Romania', 'Must Be Romania']"
      ]
     },
     "execution_count": 69,
     "metadata": {},
     "output_type": "execute_result"
    }
   ],
   "source": [
    "countries"
   ]
  },
  {
   "cell_type": "markdown",
   "id": "93253246",
   "metadata": {},
   "source": [
    "## Sorting a list"
   ]
  },
  {
   "cell_type": "code",
   "execution_count": 70,
   "id": "09a7fb63",
   "metadata": {},
   "outputs": [],
   "source": [
    "numbers = [4, 3, 6, 10, 2, 5]"
   ]
  },
  {
   "cell_type": "code",
   "execution_count": 71,
   "id": "526b7bde",
   "metadata": {},
   "outputs": [],
   "source": [
    "numbers .sort()"
   ]
  },
  {
   "cell_type": "code",
   "execution_count": 72,
   "id": "a0d12d74",
   "metadata": {},
   "outputs": [
    {
     "data": {
      "text/plain": [
       "[2, 3, 4, 5, 6, 10]"
      ]
     },
     "execution_count": 72,
     "metadata": {},
     "output_type": "execute_result"
    }
   ],
   "source": [
    "numbers"
   ]
  },
  {
   "cell_type": "code",
   "execution_count": 73,
   "id": "fbad96c0",
   "metadata": {},
   "outputs": [],
   "source": [
    "numbers.sort(reverse = True)"
   ]
  },
  {
   "cell_type": "code",
   "execution_count": 74,
   "id": "62aa190d",
   "metadata": {},
   "outputs": [
    {
     "data": {
      "text/plain": [
       "[10, 6, 5, 4, 3, 2]"
      ]
     },
     "execution_count": 74,
     "metadata": {},
     "output_type": "execute_result"
    }
   ],
   "source": [
    "numbers"
   ]
  },
  {
   "cell_type": "markdown",
   "id": "b6bf8ecc",
   "metadata": {},
   "source": [
    "## Update an element in a list"
   ]
  },
  {
   "cell_type": "code",
   "execution_count": 75,
   "id": "73952b0f",
   "metadata": {},
   "outputs": [],
   "source": [
    "numbers[0] = 1000"
   ]
  },
  {
   "cell_type": "code",
   "execution_count": 76,
   "id": "e61e420e",
   "metadata": {},
   "outputs": [
    {
     "data": {
      "text/plain": [
       "[1000, 6, 5, 4, 3, 2]"
      ]
     },
     "execution_count": 76,
     "metadata": {},
     "output_type": "execute_result"
    }
   ],
   "source": [
    "numbers"
   ]
  },
  {
   "cell_type": "markdown",
   "id": "d751911a",
   "metadata": {},
   "source": [
    "## Copying a list"
   ]
  },
  {
   "cell_type": "code",
   "execution_count": 79,
   "id": "534cab88",
   "metadata": {},
   "outputs": [],
   "source": [
    "countries = ['Romania', 'Romania 2', 'Only Romania', 'Must Be Romania']\n",
    "new_list = countries [:]"
   ]
  },
  {
   "cell_type": "code",
   "execution_count": 80,
   "id": "f5e24912",
   "metadata": {},
   "outputs": [
    {
     "data": {
      "text/plain": [
       "['Romania', 'Romania 2', 'Only Romania', 'Must Be Romania']"
      ]
     },
     "execution_count": 80,
     "metadata": {},
     "output_type": "execute_result"
    }
   ],
   "source": [
    "new_list"
   ]
  },
  {
   "cell_type": "code",
   "execution_count": 82,
   "id": "493c4d8e",
   "metadata": {},
   "outputs": [],
   "source": [
    "new_list_2 = countries.copy()"
   ]
  },
  {
   "cell_type": "code",
   "execution_count": null,
   "id": "e1b8b0c6",
   "metadata": {},
   "outputs": [],
   "source": [
    "new_list_2"
   ]
  },
  {
   "cell_type": "markdown",
   "id": "01296ab2",
   "metadata": {},
   "source": [
    "# Dictionary"
   ]
  },
  {
   "cell_type": "code",
   "execution_count": 84,
   "id": "d7c927b5",
   "metadata": {},
   "outputs": [],
   "source": [
    "my_dictionary = {'key1': 'value1', 'key2': 'value2'}"
   ]
  },
  {
   "cell_type": "code",
   "execution_count": 86,
   "id": "0156da30",
   "metadata": {},
   "outputs": [],
   "source": [
    "my_data = {'name': 'Alex', 'age': 99}"
   ]
  },
  {
   "cell_type": "code",
   "execution_count": 87,
   "id": "b121e78d",
   "metadata": {},
   "outputs": [
    {
     "data": {
      "text/plain": [
       "{'name': 'Alex', 'age': 99}"
      ]
     },
     "execution_count": 87,
     "metadata": {},
     "output_type": "execute_result"
    }
   ],
   "source": [
    "my_data"
   ]
  },
  {
   "cell_type": "code",
   "execution_count": 88,
   "id": "825a9fb7",
   "metadata": {},
   "outputs": [
    {
     "data": {
      "text/plain": [
       "dict_keys(['name', 'age'])"
      ]
     },
     "execution_count": 88,
     "metadata": {},
     "output_type": "execute_result"
    }
   ],
   "source": [
    "my_data.keys()"
   ]
  },
  {
   "cell_type": "code",
   "execution_count": 89,
   "id": "08bf02ae",
   "metadata": {},
   "outputs": [
    {
     "data": {
      "text/plain": [
       "dict_values(['Alex', 99])"
      ]
     },
     "execution_count": 89,
     "metadata": {},
     "output_type": "execute_result"
    }
   ],
   "source": [
    "my_data.values()"
   ]
  },
  {
   "cell_type": "code",
   "execution_count": 90,
   "id": "31ee110a",
   "metadata": {},
   "outputs": [
    {
     "data": {
      "text/plain": [
       "dict_items([('name', 'Alex'), ('age', 99)])"
      ]
     },
     "execution_count": 90,
     "metadata": {},
     "output_type": "execute_result"
    }
   ],
   "source": [
    "my_data.items()"
   ]
  },
  {
   "cell_type": "code",
   "execution_count": 91,
   "id": "2dbef360",
   "metadata": {},
   "outputs": [],
   "source": [
    "my_data['height'] = 1.8"
   ]
  },
  {
   "cell_type": "code",
   "execution_count": 92,
   "id": "dbb517d4",
   "metadata": {},
   "outputs": [
    {
     "data": {
      "text/plain": [
       "{'name': 'Alex', 'age': 99, 'height': 1.8}"
      ]
     },
     "execution_count": 92,
     "metadata": {},
     "output_type": "execute_result"
    }
   ],
   "source": [
    "my_data"
   ]
  },
  {
   "cell_type": "code",
   "execution_count": 98,
   "id": "3585863c",
   "metadata": {},
   "outputs": [],
   "source": [
    "my_data.update({'height': 1.6})"
   ]
  },
  {
   "cell_type": "code",
   "execution_count": 94,
   "id": "edcf75dd",
   "metadata": {},
   "outputs": [
    {
     "data": {
      "text/plain": [
       "{'name': 'Alex', 'age': 99, 'height': 1.9}"
      ]
     },
     "execution_count": 94,
     "metadata": {},
     "output_type": "execute_result"
    }
   ],
   "source": [
    "my_data"
   ]
  },
  {
   "cell_type": "markdown",
   "id": "3abe94ab",
   "metadata": {},
   "source": [
    "## Copy a dictionary"
   ]
  },
  {
   "cell_type": "code",
   "execution_count": 96,
   "id": "7975a18c",
   "metadata": {},
   "outputs": [],
   "source": [
    "new_dict = my_data.copy()"
   ]
  },
  {
   "cell_type": "code",
   "execution_count": 101,
   "id": "d54bb084",
   "metadata": {},
   "outputs": [
    {
     "data": {
      "text/plain": [
       "{'name': 'Alex', 'age': 99, 'height': 1.9}"
      ]
     },
     "execution_count": 101,
     "metadata": {},
     "output_type": "execute_result"
    }
   ],
   "source": [
    "new_dict"
   ]
  },
  {
   "cell_type": "code",
   "execution_count": 99,
   "id": "54904045",
   "metadata": {},
   "outputs": [],
   "source": [
    "new_dict2 = my_data.copy()"
   ]
  },
  {
   "cell_type": "code",
   "execution_count": 100,
   "id": "94eaf428",
   "metadata": {},
   "outputs": [
    {
     "data": {
      "text/plain": [
       "{'name': 'Alex', 'age': 99, 'height': 1.6}"
      ]
     },
     "execution_count": 100,
     "metadata": {},
     "output_type": "execute_result"
    }
   ],
   "source": [
    "new_dict2"
   ]
  },
  {
   "cell_type": "markdown",
   "id": "f522d9f0",
   "metadata": {},
   "source": [
    "## Remove Element from dictionary"
   ]
  },
  {
   "cell_type": "code",
   "execution_count": 102,
   "id": "f9bb34d1",
   "metadata": {},
   "outputs": [
    {
     "data": {
      "text/plain": [
       "'Alex'"
      ]
     },
     "execution_count": 102,
     "metadata": {},
     "output_type": "execute_result"
    }
   ],
   "source": [
    "my_data.pop('name')"
   ]
  },
  {
   "cell_type": "code",
   "execution_count": 103,
   "id": "af43a3a7",
   "metadata": {},
   "outputs": [
    {
     "data": {
      "text/plain": [
       "{'age': 99, 'height': 1.6}"
      ]
     },
     "execution_count": 103,
     "metadata": {},
     "output_type": "execute_result"
    }
   ],
   "source": [
    "my_data"
   ]
  },
  {
   "cell_type": "code",
   "execution_count": 104,
   "id": "70a6d580",
   "metadata": {},
   "outputs": [],
   "source": [
    "del my_data['age']"
   ]
  },
  {
   "cell_type": "code",
   "execution_count": 105,
   "id": "31538186",
   "metadata": {},
   "outputs": [
    {
     "data": {
      "text/plain": [
       "{'height': 1.6}"
      ]
     },
     "execution_count": 105,
     "metadata": {},
     "output_type": "execute_result"
    }
   ],
   "source": [
    "my_data"
   ]
  },
  {
   "cell_type": "code",
   "execution_count": 106,
   "id": "16ed973b",
   "metadata": {},
   "outputs": [],
   "source": [
    "my_data.clear()"
   ]
  },
  {
   "cell_type": "code",
   "execution_count": 107,
   "id": "1522c2ea",
   "metadata": {},
   "outputs": [
    {
     "data": {
      "text/plain": [
       "{}"
      ]
     },
     "execution_count": 107,
     "metadata": {},
     "output_type": "execute_result"
    }
   ],
   "source": [
    "my_data"
   ]
  },
  {
   "cell_type": "markdown",
   "id": "1b8925d2",
   "metadata": {},
   "source": [
    "# IF statement"
   ]
  },
  {
   "cell_type": "code",
   "execution_count": null,
   "id": "24a2290a",
   "metadata": {},
   "outputs": [],
   "source": [
    "if <condition>:\n",
    "    <code>\n",
    "elif <condition>;\n",
    "    <code>\n",
    "...\n",
    "else:\n",
    "    <code>"
   ]
  },
  {
   "cell_type": "code",
   "execution_count": 110,
   "id": "59a05140",
   "metadata": {},
   "outputs": [
    {
     "name": "stdout",
     "output_type": "stream",
     "text": [
      "Damn, you old!\n"
     ]
    }
   ],
   "source": [
    "age = 99;\n",
    "\n",
    "if age>=99:\n",
    "    print(\"Damn, you old!\")\n",
    "else:\n",
    "    print(\"Damn, you young!\")"
   ]
  },
  {
   "cell_type": "code",
   "execution_count": 113,
   "id": "df72e7ab",
   "metadata": {},
   "outputs": [
    {
     "name": "stdout",
     "output_type": "stream",
     "text": [
      "Damn, you young!\n"
     ]
    }
   ],
   "source": [
    "age = 11;\n",
    "\n",
    "if age>=99:\n",
    "    print(\"Damn, you old!\")\n",
    "elif age>=90:\n",
    "    print(\"Damn, you not old yet!\")\n",
    "else:\n",
    "    print(\"Damn, you young!\")"
   ]
  },
  {
   "cell_type": "markdown",
   "id": "47760cd7",
   "metadata": {},
   "source": [
    "# FOR Loop"
   ]
  },
  {
   "cell_type": "code",
   "execution_count": null,
   "id": "e91473d3",
   "metadata": {},
   "outputs": [],
   "source": [
    "for <variable> in <list>:\n",
    "    <code>"
   ]
  },
  {
   "cell_type": "code",
   "execution_count": 114,
   "id": "57a55960",
   "metadata": {},
   "outputs": [
    {
     "data": {
      "text/plain": [
       "['Romania', 'Romania 2', 'Only Romania', 'Must Be Romania']"
      ]
     },
     "execution_count": 114,
     "metadata": {},
     "output_type": "execute_result"
    }
   ],
   "source": [
    "countries"
   ]
  },
  {
   "cell_type": "code",
   "execution_count": 119,
   "id": "3bc0cb31",
   "metadata": {},
   "outputs": [
    {
     "name": "stdout",
     "output_type": "stream",
     "text": [
      "1 Romania\n",
      "2 Romania 2\n",
      "3 Only Romania\n",
      "4 Must Be Romania\n"
     ]
    }
   ],
   "source": [
    "for i, country in enumerate(countries):    \n",
    "    print(i+1,country)"
   ]
  },
  {
   "cell_type": "code",
   "execution_count": 121,
   "id": "718330ed",
   "metadata": {},
   "outputs": [],
   "source": [
    "my_data = {'name': 'Alex', 'age': 99}"
   ]
  },
  {
   "cell_type": "code",
   "execution_count": 123,
   "id": "f8f92774",
   "metadata": {},
   "outputs": [
    {
     "name": "stdout",
     "output_type": "stream",
     "text": [
      "name Alex\n",
      "age 99\n"
     ]
    }
   ],
   "source": [
    "for key, value in my_data.items():\n",
    "    print(key, value)"
   ]
  },
  {
   "cell_type": "markdown",
   "id": "c29be9b2",
   "metadata": {},
   "source": [
    "# Function"
   ]
  },
  {
   "cell_type": "code",
   "execution_count": null,
   "id": "a60215ff",
   "metadata": {},
   "outputs": [],
   "source": [
    "def function(<parameters>):\n",
    "    <code>\n",
    "    return <data>"
   ]
  },
  {
   "cell_type": "code",
   "execution_count": 124,
   "id": "7c1831f5",
   "metadata": {},
   "outputs": [],
   "source": [
    "def sum_values(a, b):\n",
    "    x = a + b\n",
    "    return x"
   ]
  },
  {
   "cell_type": "code",
   "execution_count": 126,
   "id": "82554c7f",
   "metadata": {},
   "outputs": [
    {
     "data": {
      "text/plain": [
       "54"
      ]
     },
     "execution_count": 126,
     "metadata": {},
     "output_type": "execute_result"
    }
   ],
   "source": [
    "sum_values(13, 41)"
   ]
  },
  {
   "cell_type": "markdown",
   "id": "4aa5c5ea",
   "metadata": {},
   "source": [
    "## Built-in Functions"
   ]
  },
  {
   "cell_type": "code",
   "execution_count": 127,
   "id": "83900603",
   "metadata": {},
   "outputs": [
    {
     "data": {
      "text/plain": [
       "['Romania', 'Romania 2', 'Only Romania', 'Must Be Romania']"
      ]
     },
     "execution_count": 127,
     "metadata": {},
     "output_type": "execute_result"
    }
   ],
   "source": [
    "countries"
   ]
  },
  {
   "cell_type": "code",
   "execution_count": 128,
   "id": "e90fea5e",
   "metadata": {},
   "outputs": [
    {
     "data": {
      "text/plain": [
       "4"
      ]
     },
     "execution_count": 128,
     "metadata": {},
     "output_type": "execute_result"
    }
   ],
   "source": [
    "len(countries)"
   ]
  },
  {
   "cell_type": "code",
   "execution_count": 129,
   "id": "a2088032",
   "metadata": {},
   "outputs": [
    {
     "data": {
      "text/plain": [
       "99"
      ]
     },
     "execution_count": 129,
     "metadata": {},
     "output_type": "execute_result"
    }
   ],
   "source": [
    "max ([10, 66, 32, 15, 99])"
   ]
  },
  {
   "cell_type": "code",
   "execution_count": 130,
   "id": "81bfae9d",
   "metadata": {},
   "outputs": [
    {
     "data": {
      "text/plain": [
       "10"
      ]
     },
     "execution_count": 130,
     "metadata": {},
     "output_type": "execute_result"
    }
   ],
   "source": [
    "min ([10, 66, 32, 15, 99])"
   ]
  },
  {
   "cell_type": "code",
   "execution_count": 131,
   "id": "b3ee4b4d",
   "metadata": {},
   "outputs": [
    {
     "data": {
      "text/plain": [
       "list"
      ]
     },
     "execution_count": 131,
     "metadata": {},
     "output_type": "execute_result"
    }
   ],
   "source": [
    "type (countries)"
   ]
  },
  {
   "cell_type": "code",
   "execution_count": 133,
   "id": "4db08b87",
   "metadata": {},
   "outputs": [
    {
     "name": "stdout",
     "output_type": "stream",
     "text": [
      "1\n",
      "3\n",
      "5\n",
      "7\n",
      "9\n"
     ]
    }
   ],
   "source": [
    "for i in range(1, 10, 2):\n",
    "    print (i)"
   ]
  },
  {
   "cell_type": "markdown",
   "id": "73d06e82",
   "metadata": {},
   "source": [
    "# Module"
   ]
  },
  {
   "cell_type": "code",
   "execution_count": null,
   "id": "f9ecd638",
   "metadata": {},
   "outputs": [],
   "source": [
    "import"
   ]
  },
  {
   "cell_type": "markdown",
   "id": "dbbe6149",
   "metadata": {},
   "source": [
    "## OS Module"
   ]
  },
  {
   "cell_type": "code",
   "execution_count": 2,
   "id": "51419f63",
   "metadata": {},
   "outputs": [],
   "source": [
    "import os"
   ]
  },
  {
   "cell_type": "code",
   "execution_count": 3,
   "id": "0f782fef",
   "metadata": {},
   "outputs": [
    {
     "data": {
      "text/plain": [
       "'C:\\\\Users\\\\Alex\\\\Data Science Project'"
      ]
     },
     "execution_count": 3,
     "metadata": {},
     "output_type": "execute_result"
    }
   ],
   "source": [
    "os.getcwd()"
   ]
  },
  {
   "cell_type": "code",
   "execution_count": 4,
   "id": "11394681",
   "metadata": {},
   "outputs": [
    {
     "data": {
      "text/plain": [
       "['.ipynb_checkpoints', 'Sample.ipynb']"
      ]
     },
     "execution_count": 4,
     "metadata": {},
     "output_type": "execute_result"
    }
   ],
   "source": [
    "os.listdir()"
   ]
  },
  {
   "cell_type": "code",
   "execution_count": 5,
   "id": "b381e029",
   "metadata": {},
   "outputs": [],
   "source": [
    "os.makedirs(\"New Folder\")"
   ]
  },
  {
   "cell_type": "code",
   "execution_count": 6,
   "id": "8dc36a3f",
   "metadata": {},
   "outputs": [
    {
     "data": {
      "text/plain": [
       "['.ipynb_checkpoints', 'New Folder', 'Sample.ipynb']"
      ]
     },
     "execution_count": 6,
     "metadata": {},
     "output_type": "execute_result"
    }
   ],
   "source": [
    "os.listdir()"
   ]
  }
 ],
 "metadata": {
  "kernelspec": {
   "display_name": "Python 3 (ipykernel)",
   "language": "python",
   "name": "python3"
  },
  "language_info": {
   "codemirror_mode": {
    "name": "ipython",
    "version": 3
   },
   "file_extension": ".py",
   "mimetype": "text/x-python",
   "name": "python",
   "nbconvert_exporter": "python",
   "pygments_lexer": "ipython3",
   "version": "3.11.5"
  }
 },
 "nbformat": 4,
 "nbformat_minor": 5
}
